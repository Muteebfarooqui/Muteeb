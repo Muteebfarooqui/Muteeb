{
 "cells": [
  {
   "cell_type": "markdown",
   "metadata": {},
   "source": [
    "# Assignment No. 2\n"
   ]
  },
  {
   "cell_type": "code",
   "execution_count": 2,
   "metadata": {},
   "outputs": [
    {
     "name": "stdout",
     "output_type": "stream",
     "text": [
      "Enter 'x' for exit.\n",
      "Enter marks obtained in 5 subjects: \n",
      "75\n",
      "88\n",
      "47\n",
      "96\n",
      "87\n",
      "Your Grade is B\n"
     ]
    }
   ],
   "source": [
    "'''\n",
    "1. Write a program which takes 5 inputs from user for different subject’s\n",
    "marks, total it and generate mark sheet using grades ?\n",
    "'''\n",
    "#Solution:\n",
    "print(\"Enter 'x' for exit.\");\n",
    "print(\"Enter marks obtained in 5 subjects: \");\n",
    "sub1 = input();\n",
    "if sub1 == 'x':\n",
    "    exit();\n",
    "else:\n",
    "    sub1 = int(sub1);\n",
    "    sub2 = int(input());\n",
    "    sub3 = int(input());\n",
    "    sub4 = int(input());\n",
    "    sub5 = int(input());\n",
    "    sum = sub1 + sub2 + sub3 + sub4 + sub5;\n",
    "    avg = sum/5;\n",
    "    if(avg>=91 and average<=100):\n",
    "        print(\"Your Grade is A+\");\n",
    "    elif(avg>=81 and avg<=90):\n",
    "        print(\"Your Grade is A\");\n",
    "    elif(avg>=71 and avg<=80):\n",
    "        print(\"Your Grade is B\");\n",
    "    elif(avg>=61 and avg<=70):\n",
    "        print(\"Your Grade is C\");\n",
    "    elif(avg>=51 and avg<=60):\n",
    "        print(\"Your Grade is D\");\n",
    "    elif(avg>=41 and avg<=50):\n",
    "        print(\"Your Grade is E\");\n",
    "    elif(avg>=0 and avg<=40):\n",
    "        print(\"Your Grade is F\");\n",
    "    else:\n",
    "        print(\"Incorrect Number Entered\");"
   ]
  },
  {
   "cell_type": "code",
   "execution_count": 4,
   "metadata": {},
   "outputs": [
    {
     "name": "stdout",
     "output_type": "stream",
     "text": [
      "Enter a number: 66\n",
      "The Given Number is Even\n"
     ]
    }
   ],
   "source": [
    "'''\n",
    "2. Write a program which take input from user and identify that the given\n",
    "number is even or odd?\n",
    "'''\n",
    "#Solution:\n",
    "num = int(input(\"Enter a number: \"))\n",
    "if (num % 2) == 0:\n",
    "    print(\"The Given Number is Even\")\n",
    "else:\n",
    "    print(\"The Given Number is Odd\")"
   ]
  },
  {
   "cell_type": "code",
   "execution_count": 14,
   "metadata": {},
   "outputs": [
    {
     "name": "stdout",
     "output_type": "stream",
     "text": [
      "The length of list is:  5\n"
     ]
    }
   ],
   "source": [
    "'''\n",
    "3. Write a program which print the length of the list?\n",
    "'''\n",
    "#Solution:\n",
    "a = len([10, 20, 30, 40 ,50]) \n",
    "print(\"The length of list is: \", a)"
   ]
  },
  {
   "cell_type": "code",
   "execution_count": 16,
   "metadata": {},
   "outputs": [
    {
     "name": "stdout",
     "output_type": "stream",
     "text": [
      "Sum of all elements in given list:  100\n"
     ]
    }
   ],
   "source": [
    "'''\n",
    "4. Write a Python program to sum all the numeric items in a list?\n",
    "'''\n",
    "#Solution:\n",
    "total = 0\n",
    "a = 0\n",
    "lst = [6, 7, 11, 24, 52]  \n",
    "while(a < len(lst)): \n",
    "    total = total + lst[a] \n",
    "    a += 1\n",
    "print(\"Sum of all elements in given list: \", total) "
   ]
  },
  {
   "cell_type": "code",
   "execution_count": 19,
   "metadata": {},
   "outputs": [
    {
     "name": "stdout",
     "output_type": "stream",
     "text": [
      "The largest element is: 103\n"
     ]
    }
   ],
   "source": [
    "'''\n",
    "5. Write a Python program to get the largest number from a numeric list.\n",
    "'''\n",
    "#Solution:\n",
    "list1 = [10, 20, 4, 45, 99,103,76,21,61]  \n",
    "list1.sort() \n",
    "print(\"The largest element is:\", list1[-1]) "
   ]
  },
  {
   "cell_type": "code",
   "execution_count": 24,
   "metadata": {},
   "outputs": [
    {
     "name": "stdout",
     "output_type": "stream",
     "text": [
      "1\n",
      "1\n",
      "2\n",
      "3\n"
     ]
    }
   ],
   "source": [
    "'''\n",
    "6. Take a list, say for example this one:\n",
    "a = [1, 1, 2, 3, 5, 8, 13, 21, 34, 55, 89]\n",
    "and write a program that prints out all the elements of the list that are\n",
    "less than 5.\n",
    "'''\n",
    "#Solution:\n",
    "a = [1, 1, 2, 3, 5, 8, 13, 21, 34, 55, 89]\n",
    "\n",
    "for i in a:\n",
    "        if i<5:\n",
    "            print(i)"
   ]
  },
  {
   "cell_type": "code",
   "execution_count": null,
   "metadata": {},
   "outputs": [],
   "source": []
  }
 ],
 "metadata": {
  "kernelspec": {
   "display_name": "Python 3",
   "language": "python",
   "name": "python3"
  },
  "language_info": {
   "codemirror_mode": {
    "name": "ipython",
    "version": 3
   },
   "file_extension": ".py",
   "mimetype": "text/x-python",
   "name": "python",
   "nbconvert_exporter": "python",
   "pygments_lexer": "ipython3",
   "version": "3.7.3"
  }
 },
 "nbformat": 4,
 "nbformat_minor": 2
}
