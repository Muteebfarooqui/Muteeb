{
 "cells": [
  {
   "cell_type": "markdown",
   "metadata": {},
   "source": [
    "# Assignment #  3"
   ]
  },
  {
   "cell_type": "code",
   "execution_count": 7,
   "metadata": {},
   "outputs": [
    {
     "name": "stdout",
     "output_type": "stream",
     "text": [
      "1. Addition\n",
      "2. Subtraction\n",
      "3. Multiplication\n",
      "4. Division\n",
      "5. Exit\n",
      "Enter your choice: 4\n",
      "Enter your first number12\n",
      "Enter your second number4\n",
      "Result =  3.0\n"
     ]
    }
   ],
   "source": [
    "'''\n",
    "1. Make a calculator using Python with addition , subtraction , multiplication ,\n",
    "division and power.\n",
    "'''\n",
    "#Solution:\n",
    "print(\"1. Addition\");\n",
    "print(\"2. Subtraction\");\n",
    "print(\"3. Multiplication\");\n",
    "print(\"4. Division\");\n",
    "print(\"5. Exit\");\n",
    "select = int(input(\"Enter your choice: \"));\n",
    "if (select>=1 and select<=4):\n",
    "    n1 = int(input(\"Enter your first number\"));\n",
    "    n2 = int(input(\"Enter your second number\"));\n",
    "    if select == 1:\n",
    "        ans = n1 + n2;\n",
    "        print(\"Result = \", ans);\n",
    "    elif select == 2:\n",
    "        ans = n1 - n2;\n",
    "        print(\"Result = \", ans);\n",
    "    elif select == 3:\n",
    "        ans = n1 * n2;\n",
    "        print(\"Result = \", ans);\n",
    "    else:\n",
    "        ans = n1 / n2;     #use // if you want answer without decimal.\n",
    "        print(\"Result = \", ans);\n",
    "elif select == 5:\n",
    "    exit();\n",
    "else:\n",
    "    print(\"Wrong input..!!\");"
   ]
  },
  {
   "cell_type": "code",
   "execution_count": 29,
   "metadata": {},
   "outputs": [
    {
     "data": {
      "text/plain": [
       "'\\n2. Write a program to check if there is any numeric value in list using for loop\\n'"
      ]
     },
     "execution_count": 29,
     "metadata": {},
     "output_type": "execute_result"
    }
   ],
   "source": [
    "'''\n",
    "2. Write a program to check if there is any numeric value in list using for loop\n",
    "'''\n",
    "#SOlution:\n",
    "        ------"
   ]
  },
  {
   "cell_type": "code",
   "execution_count": 13,
   "metadata": {},
   "outputs": [
    {
     "name": "stdout",
     "output_type": "stream",
     "text": [
      "{0: 10, 1: 20}\n",
      "{0: 10, 1: 20, 2: 30}\n"
     ]
    }
   ],
   "source": [
    "'''\n",
    "3. Write a Python script to add a key to a dictionary\n",
    "'''\n",
    "#Solution:\n",
    "dict = {0:10, 1:20}\n",
    "print(dict)\n",
    "dict.update({2:30})\n",
    "print(dict)"
   ]
  },
  {
   "cell_type": "code",
   "execution_count": 15,
   "metadata": {},
   "outputs": [
    {
     "name": "stdout",
     "output_type": "stream",
     "text": [
      "328\n"
     ]
    }
   ],
   "source": [
    "'''\n",
    "4. Write a Python program to sum all the numeric items in a dictionary\n",
    "'''\n",
    "#Solution:\n",
    "dict = {1:100,2:-54,3:257,4:25}\n",
    "print(sum(dict.values()))"
   ]
  },
  {
   "cell_type": "code",
   "execution_count": 27,
   "metadata": {},
   "outputs": [
    {
     "name": "stdout",
     "output_type": "stream",
     "text": [
      "[3, 9, 12]\n"
     ]
    }
   ],
   "source": [
    "'''\n",
    "5. Write a program to identify duplicate values from list\n",
    "'''\n",
    "#Solution:\n",
    "lst = [ 3, 6, 9, 12, 3, 30, 15, 9, 45, 36, 12, 12]\n",
    "dupItems = []\n",
    "uniqItems = {}\n",
    "for x in lst:\n",
    "   if x not in uniqItems:\n",
    "      uniqItems[x] = 1\n",
    "   else:\n",
    "      if uniqItems[x] == 1:\n",
    "         dupItems.append(x)\n",
    "      uniqItems[x] += 1\n",
    "print(dupItems)\n",
    "         "
   ]
  },
  {
   "cell_type": "code",
   "execution_count": 28,
   "metadata": {},
   "outputs": [
    {
     "name": "stdout",
     "output_type": "stream",
     "text": [
      "Key is present in the dictionary\n",
      "Key is not present in the dictionary\n"
     ]
    }
   ],
   "source": [
    "'''\n",
    "6. Write a Python script to check if a given key already exists in a dictionary\n",
    "'''\n",
    "#Solution:\n",
    "\n",
    "d = {1: 10, 2: 20, 3: 30, 4: 40, 5: 50, 6: 60}\n",
    "def is_key_present(x):\n",
    "  if x in d:\n",
    "      print('Key is present in the dictionary')\n",
    "  else:\n",
    "      print('Key is not present in the dictionary')\n",
    "is_key_present(5)\n",
    "is_key_present(9)"
   ]
  },
  {
   "cell_type": "code",
   "execution_count": null,
   "metadata": {},
   "outputs": [],
   "source": []
  }
 ],
 "metadata": {
  "kernelspec": {
   "display_name": "Python 3",
   "language": "python",
   "name": "python3"
  },
  "language_info": {
   "codemirror_mode": {
    "name": "ipython",
    "version": 3
   },
   "file_extension": ".py",
   "mimetype": "text/x-python",
   "name": "python",
   "nbconvert_exporter": "python",
   "pygments_lexer": "ipython3",
   "version": "3.7.1"
  }
 },
 "nbformat": 4,
 "nbformat_minor": 2
}
